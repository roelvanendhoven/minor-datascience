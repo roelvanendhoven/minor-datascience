{
 "cells": [
  {
   "cell_type": "markdown",
   "metadata": {
    "slideshow": {
     "slide_type": "-"
    }
   },
   "source": [
    "# Distributions and Measures of Dispersion\n",
    "This notebook contains the code for calculating and plotting distributions and Measures of Dispersion. These subjects were covered in the workshops for the minor Data Science. Since not everyone is familiar with Python, or didn't use it during the lectures, I decided to share the code I've written and methods I've used to calculate things like the Standard Deviation and Variance.\n",
    "\n",
    "**NOTE: this is not a final version, also, not everything covered in the lectures may be included in this document.**\n",
    "**ALSO NOTE: I'm not a Python guru, most of the code will not be optimal nor will it be free of 'hacks'.**\n",
    "\n",
    "## Introduction\n",
    "This notebook contains python code that can be executed live. This means that if you were to clone this repository by issuing the following command: (assuming you have git installed https://git-scm.com/book/en/v2/Getting-Started-Installing-Git (which should've been named getgit.com but w/e))\n",
    "\n",
    "    git clone https://github.com/roelvanendhoven/minor-datascience.git\n",
    "    \n",
    "You can then replace the `Sample.tsv` file with a Sample file (correctly formatted) the values within this notebook will reflect the new sample file. To do so the notebook has to be re-run. Google will help you a long way.\n",
    "\n",
    "Also, to install Jupyter, the easiest way would be to install the Anaconda Python distribution: https://www.continuum.io/downloads which contains Jupyter by default. Also it installs a lot of python packages used for plotting and doing data science out of the box and preconfigured.\n",
    "\n",
    "## Things covered so far\n",
    "The notebook currently covers the following things:\n",
    "\n",
    "* Plot number of samples and the mean of the number of samples\n",
    "\n",
    "* Poisson Distribution of the number of Samples (where the organisms were randomly divided)\n",
    "* Standard deviation of the Number of organisms\n",
    "* Variance of the Number of organisms\n",
    "\n",
    "\n",
    "## Imports and opening the file\n",
    "The following code handles the imports and dependencies on which our code relies. We depend on matplotlib to draw our graphs and we call it `plt` by convention. We use pandas for our data manipulation and reading our data file. We name this `pd`, as is also the convention.\n",
    "\n",
    "After that we open our file with the sample data and display the first few values. It is loaded in as a pandas DataFrame."
   ]
  },
  {
   "cell_type": "code",
   "execution_count": 2,
   "metadata": {
    "collapsed": false,
    "scrolled": true,
    "slideshow": {
     "slide_type": "-"
    }
   },
   "outputs": [
    {
     "name": "stdout",
     "output_type": "stream",
     "text": [
      "              SamplerDiameter(cm)  setDensityOfOrganisms (m2)  \\\n",
      "SampleNumber                                                    \n",
      "1                              25                          10   \n",
      "1                              25                          10   \n",
      "1                              25                          10   \n",
      "2                              25                          10   \n",
      "2                              25                          10   \n",
      "\n",
      "             DistributionPattern  NumberOfOrganisms  \n",
      "SampleNumber                                         \n",
      "1                        Regular                  6  \n",
      "1                        Clumped                  2  \n",
      "1                         Random                  5  \n",
      "2                        Regular                  4  \n",
      "2                        Clumped                  9  \n"
     ]
    }
   ],
   "source": [
    "import pandas as pd # because they're cute\n",
    "import matplotlib.pyplot as plt # To plot the graphs\n",
    "import math # So we don't have to do it ourself\n",
    "\n",
    "# Surpress warnings, cuz we're living on the edge\n",
    "pd.options.mode.chained_assignment = None\n",
    "\n",
    "# Just surpress all warnings, I don't even care anymore :')\n",
    "import warnings\n",
    "warnings.filterwarnings(\"ignore\")\n",
    "\n",
    "data = pd.DataFrame.from_csv('Sample.tsv', sep='\\t') #load tab separated values ( '\\t' )\n",
    "\n",
    "print(data.head()) # Print the head of the dataset, or the first 5 values"
   ]
  },
  {
   "cell_type": "markdown",
   "metadata": {},
   "source": [
    "## Describing and plotting the samples\n",
    "Now that we have successfully loaded the dataset, let's initially describe our data so we can find the mean and standard deviation. Using the describe function shows a lot of information about your data quickly. Nexy we create a boxplot to visualise what we have described. This gives an even better look at our data. We group this by the different distribution patterns so we can compare them and inspect them individually.\n",
    "\n",
    "Should we draw a line or bargraph with this information, we would be none the wiser since it would just show a bunch of 'noise'."
   ]
  },
  {
   "cell_type": "code",
   "execution_count": 3,
   "metadata": {
    "collapsed": false,
    "scrolled": true
   },
   "outputs": [
    {
     "name": "stdout",
     "output_type": "stream",
     "text": [
      "DistributionPattern       \n",
      "Clumped              count    500.000000\n",
      "                     mean       4.980000\n",
      "                     std        2.562955\n",
      "                     min        0.000000\n",
      "                     25%        3.000000\n",
      "                     50%        5.000000\n",
      "                     75%        7.000000\n",
      "                     max       13.000000\n",
      "Random               count    500.000000\n",
      "                     mean       5.620000\n",
      "                     std        2.346617\n",
      "                     min        1.000000\n",
      "                     25%        4.000000\n",
      "                     50%        5.000000\n",
      "                     75%        7.000000\n",
      "                     max       13.000000\n",
      "Regular              count    500.000000\n",
      "                     mean       5.630000\n",
      "                     std        0.924559\n",
      "                     min        4.000000\n",
      "                     25%        5.000000\n",
      "                     50%        6.000000\n",
      "                     75%        6.000000\n",
      "                     max        7.000000\n",
      "Name: NumberOfOrganisms, dtype: float64\n"
     ]
    },
    {
     "data": {
      "image/png": "[encoded data removed]",
      "text/plain": [
       "<matplotlib.figure.Figure at 0x7f7fc8efa160>"
      ]
     },
     "metadata": {},
     "output_type": "display_data"
    }
   ],
   "source": [
    "fig, ax = plt.subplots(figsize=(10,10)) # obtain the figure and axis of the subplots in matplotlib\n",
    "\n",
    "grouped_data = data.groupby('DistributionPattern') # Group data\n",
    "print(grouped_data['NumberOfOrganisms'].describe()) # Show some statistics about the different grouped data\n",
    "\n",
    "grouped_data.boxplot(ax=ax,  column='NumberOfOrganisms') # Pandas has a convenient wrapper function to make boxplots\n",
    "plt.show()"
   ]
  },
  {
   "cell_type": "markdown",
   "metadata": {},
   "source": [
    "## Plotting the Distribution\n",
    "To find out if the sample conforms to a certain distribution it can be tested against a chi-square test. The following code gives an example of calculating the poisson distribution of the sample data, aswell as providing a function to calculate the chi-sqaure score.\n",
    "\n",
    "One of the ditribution patterns follows a Poisson distribution, namely the random one. This is also one of the characteristics of a poisson distribution. It applies to random chance. Seeing as the amount of organisms within a sample is random, we can conclude this distribution indeed applies. Indeed, when we plot the distribution and calculate the chi-square score, we find a that the poisson distribution apllies very strongly.\n",
    "\n",
    "The example starts by loading the dataset again, because the code was written before the rest of the notebook (being the code above this part). As such it will follow a different approach to filtering and grouping the data. I left this in seeing as the method described above provide but an alternate approach to a problem and it might be usefull to see a different approach.\n",
    "\n",
    "The rest of the code is explained in comments below. After which a more general explanation of the functions used is given, namely the ones about the poisson distribution and the chi-square test."
   ]
  },
  {
   "cell_type": "code",
   "execution_count": 4,
   "metadata": {
    "collapsed": false,
    "scrolled": true
   },
   "outputs": [
    {
     "data": {
      "image/png": "[encoded data removed]",
      "text/plain": [
       "<matplotlib.figure.Figure at 0x7f7fc60cb2e8>"
      ]
     },
     "metadata": {},
     "output_type": "display_data"
    }
   ],
   "source": [
    "\n",
    "sample = pd.DataFrame.from_csv('Sample.tsv', sep='\\t', index_col=None)\n",
    "reg = sample.loc[sample['DistributionPattern'] == 'Random']\n",
    "\n",
    "fig, ax = plt.subplots()\n",
    "val_counts = reg['NumberOfOrganisms'].value_counts(sort=False)\n",
    "\n",
    "mean_organisms = reg['NumberOfOrganisms'].mean()\n",
    "std_organisms = reg['NumberOfOrganisms'].std()\n",
    "\n",
    "euler = math.exp(1)\n",
    "poisson_list = []\n",
    "\n",
    "for value, count in val_counts.items():\n",
    "    p = (mean_organisms ** value * euler ** -mean_organisms) / (math.factorial(value))\n",
    "    p *= 500\n",
    "    poisson_list.append(p)\n",
    "\n",
    "value_counts = [value for value in val_counts]\n",
    "\n",
    "chi_square = 0\n",
    "for value, predicted in zip(value_counts, poisson_list):\n",
    "    chi_square += ((value - predicted) ** 2) / predicted\n",
    "\n",
    "\n",
    "val_counts.plot(ax=ax, kind='bar')\n",
    "ax.plot(poisson_list, color='red')\n",
    "plt.show()"
   ]
  },
  {
   "cell_type": "code",
   "execution_count": null,
   "metadata": {
    "collapsed": true
   },
   "outputs": [],
   "source": []
  }
 ],
 "metadata": {
  "kernelspec": {
   "display_name": "Python 3",
   "language": "python",
   "name": "python3"
  },
  "language_info": {
   "codemirror_mode": {
    "name": "ipython",
    "version": 3
   },
   "file_extension": ".py",
   "mimetype": "text/x-python",
   "name": "python",
   "nbconvert_exporter": "python",
   "pygments_lexer": "ipython3",
   "version": "3.6.0"
  }
 },
 "nbformat": 4,
 "nbformat_minor": 2
}
